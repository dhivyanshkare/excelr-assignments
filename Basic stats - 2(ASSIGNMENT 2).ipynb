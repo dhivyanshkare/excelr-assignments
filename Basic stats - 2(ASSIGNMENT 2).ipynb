{
 "cells": [
  {
   "cell_type": "markdown",
   "id": "18abf420",
   "metadata": {},
   "source": [
    "## Assigntment 2: Basic Statistics"
   ]
  },
  {
   "cell_type": "code",
   "execution_count": 2,
   "id": "21eabc24",
   "metadata": {},
   "outputs": [],
   "source": [
    "import numpy as np\n",
    "from scipy import stats"
   ]
  },
  {
   "cell_type": "code",
   "execution_count": 3,
   "id": "0f4f23a8",
   "metadata": {},
   "outputs": [],
   "source": [
    "sample_data = np.array([1.13, 1.55, 1.43, 0.92, 1.25, 1.36, 1.32, 0.85, 1.07, 1.48, 1.20, 1.33, 1.18, 1.22, 1.29])\n",
    "data_mean = np.mean(sample_data)\n",
    "data_std=np.std(sample_data)\n",
    "data_size=len(sample_data)"
   ]
  },
  {
   "cell_type": "code",
   "execution_count": 4,
   "id": "9c109f54",
   "metadata": {},
   "outputs": [
    {
     "name": "stdout",
     "output_type": "stream",
     "text": [
      "1.2386666666666666\n",
      "0.18661427836285438\n",
      "15\n"
     ]
    }
   ],
   "source": [
    "print(data_mean)\n",
    "print(data_std)\n",
    "print(data_size)"
   ]
  },
  {
   "cell_type": "markdown",
   "id": "a5f7f70d",
   "metadata": {},
   "source": [
    "## A. Confidence Interval Using Sample Standard Deviation"
   ]
  },
  {
   "cell_type": "code",
   "execution_count": 7,
   "id": "356bc02c",
   "metadata": {},
   "outputs": [
    {
     "name": "stdout",
     "output_type": "stream",
     "text": [
      "Confidence interval for sample data: (1.095231668626123, 1.3821016647072102)\n"
     ]
    }
   ],
   "source": [
    "dof= data_size - 1\n",
    "confidence_level = 0.99\n",
    "ss=data_std / np.sqrt(data_size)\n",
    "stats.t.interval(confidence_level, dof, data_mean, ss)\n",
    "print(\"Confidence interval for sample data:\", stats.t.interval(confidence_level, dof, data_mean, ss))"
   ]
  },
  {
   "cell_type": "markdown",
   "id": "5e5d3a7e",
   "metadata": {},
   "source": [
    "## B. Confidence Interval Using Known Population Standard Deviation"
   ]
  },
  {
   "cell_type": "code",
   "execution_count": 8,
   "id": "5c8670c2",
   "metadata": {},
   "outputs": [
    {
     "name": "stdout",
     "output_type": "stream",
     "text": [
      "Confidence interval for population data: (1.0849431688733762, 1.392390164459957)\n"
     ]
    }
   ],
   "source": [
    "population_std=0.2\n",
    "ps=population_std / np.sqrt(data_size)\n",
    "stats.t.interval(confidence_level, dof, data_mean, ps)\n",
    "print(\"Confidence interval for population data:\", stats.t.interval(confidence_level, dof, data_mean, ps))"
   ]
  }
 ],
 "metadata": {
  "kernelspec": {
   "display_name": "base",
   "language": "python",
   "name": "python3"
  },
  "language_info": {
   "codemirror_mode": {
    "name": "ipython",
    "version": 3
   },
   "file_extension": ".py",
   "mimetype": "text/x-python",
   "name": "python",
   "nbconvert_exporter": "python",
   "pygments_lexer": "ipython3",
   "version": "3.12.7"
  }
 },
 "nbformat": 4,
 "nbformat_minor": 5
}

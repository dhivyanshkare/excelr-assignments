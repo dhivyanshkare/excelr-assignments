{
 "cells": [
  {
   "cell_type": "markdown",
   "id": "2ad88bf8",
   "metadata": {},
   "source": [
    "## ASSIGNMENT-3"
   ]
  },
  {
   "cell_type": "markdown",
   "id": "798df369",
   "metadata": {},
   "source": [
    "### Excersie-1: Prime Numbers"
   ]
  },
  {
   "cell_type": "code",
   "execution_count": 10,
   "id": "7b21e29d",
   "metadata": {},
   "outputs": [
    {
     "name": "stdout",
     "output_type": "stream",
     "text": [
      "10007 is a prime number\n"
     ]
    }
   ],
   "source": [
    "n=int(input())\n",
    "if n==1:\n",
    "    print(n,\"is not a prime number\")\n",
    "\n",
    "if n>1:\n",
    "    for i in range(2,int(n**0.5)+1):\n",
    "        if (n%i)==0:\n",
    "            print(n,\"is not a prime number\")\n",
    "            break\n",
    "        else:\n",
    "            print(n,\"is a prime number\")\n",
    "            break\n"
   ]
  },
  {
   "cell_type": "markdown",
   "id": "5b151e39",
   "metadata": {},
   "source": [
    "### Excersie-2: Product of Random Numbers"
   ]
  },
  {
   "cell_type": "code",
   "execution_count": 15,
   "id": "1cf4b226",
   "metadata": {},
   "outputs": [
    {
     "name": "stdout",
     "output_type": "stream",
     "text": [
      "Correct! The product is 70\n"
     ]
    }
   ],
   "source": [
    "import random\n",
    "def product_of_random_numbers():\n",
    "    num1 = random.randint(1,10)\n",
    "    num2 = random.randint(1, 10)\n",
    "    actual_product = num1 * num2\n",
    "    user_product = int(input(f\"Enter the product of {num1} and {num2}: \"))\n",
    "    if user_product == actual_product:\n",
    "        print(\"Correct! The product is\", actual_product)\n",
    "    else:\n",
    "        print(\"Incorrect! The actual product is\",actual_product)\n",
    "product_of_random_numbers()"
   ]
  },
  {
   "cell_type": "markdown",
   "id": "6bc1def3",
   "metadata": {},
   "source": [
    "### Exercise-3: Squares of Even/Odd Numbers"
   ]
  },
  {
   "cell_type": "code",
   "execution_count": 18,
   "id": "c3990f1a",
   "metadata": {},
   "outputs": [
    {
     "name": "stdout",
     "output_type": "stream",
     "text": [
      "101^2= 10201\n",
      "103^2= 10609\n",
      "105^2= 11025\n",
      "107^2= 11449\n",
      "109^2= 11881\n",
      "111^2= 12321\n",
      "113^2= 12769\n",
      "115^2= 13225\n",
      "117^2= 13689\n",
      "119^2= 14161\n",
      "121^2= 14641\n",
      "123^2= 15129\n",
      "125^2= 15625\n",
      "127^2= 16129\n",
      "129^2= 16641\n",
      "131^2= 17161\n",
      "133^2= 17689\n",
      "135^2= 18225\n",
      "137^2= 18769\n",
      "139^2= 19321\n",
      "141^2= 19881\n",
      "143^2= 20449\n",
      "145^2= 21025\n",
      "147^2= 21609\n",
      "149^2= 22201\n",
      "151^2= 22801\n",
      "153^2= 23409\n",
      "155^2= 24025\n",
      "157^2= 24649\n",
      "159^2= 25281\n",
      "161^2= 25921\n",
      "163^2= 26569\n",
      "165^2= 27225\n",
      "167^2= 27889\n",
      "169^2= 28561\n",
      "171^2= 29241\n",
      "173^2= 29929\n",
      "175^2= 30625\n",
      "177^2= 31329\n",
      "179^2= 32041\n",
      "181^2= 32761\n",
      "183^2= 33489\n",
      "185^2= 34225\n",
      "187^2= 34969\n",
      "189^2= 35721\n",
      "191^2= 36481\n",
      "193^2= 37249\n",
      "195^2= 38025\n",
      "197^2= 38809\n",
      "199^2= 39601\n"
     ]
    }
   ],
   "source": [
    "def squares_of_even_odd_numbers():\n",
    "    var=input(\"Enter even or odd:\")\n",
    "    sum=0\n",
    "    if var.lower() == \"even\":\n",
    "        for i in range(100,200,2):\n",
    "            print(f\"{i}^2 = {i**2}\")\n",
    "    elif var.lower() == \"odd\":\n",
    "        for i in range(101, 200, 2):\n",
    "            print(f\"{i}^2= {i**2}\")\n",
    "squares_of_even_odd_numbers()\n"
   ]
  },
  {
   "cell_type": "markdown",
   "id": "a5e8256b",
   "metadata": {},
   "source": [
    "### Excersie-4: Word Counter"
   ]
  },
  {
   "cell_type": "code",
   "execution_count": 23,
   "id": "9c5deb52",
   "metadata": {},
   "outputs": [
    {
     "name": "stdout",
     "output_type": "stream",
     "text": [
      "The number of words in the sentence is: 4\n"
     ]
    }
   ],
   "source": [
    "def word_counter():\n",
    "    text = input(\"Enter a sentence: \")\n",
    "    words = text.split()\n",
    "    word_count = len(words)\n",
    "    print(f\"The number of words in the sentence is: {word_count}\")\n",
    "word_counter()\n"
   ]
  },
  {
   "cell_type": "markdown",
   "id": "0c38d3c8",
   "metadata": {},
   "source": [
    "### Excersie-5: Check for Palindrome"
   ]
  },
  {
   "cell_type": "code",
   "execution_count": 25,
   "id": "7f849caf",
   "metadata": {},
   "outputs": [
    {
     "name": "stdout",
     "output_type": "stream",
     "text": [
      "True\n"
     ]
    }
   ],
   "source": [
    "def palindrome_checker():\n",
    "    word = input(\"Enter a word: \")\n",
    "    if word == word[::-1]:\n",
    "        print(\"True\")\n",
    "    else:\n",
    "        print(\"False\")\n",
    "palindrome_checker()"
   ]
  }
 ],
 "metadata": {
  "kernelspec": {
   "display_name": "base",
   "language": "python",
   "name": "python3"
  },
  "language_info": {
   "codemirror_mode": {
    "name": "ipython",
    "version": 3
   },
   "file_extension": ".py",
   "mimetype": "text/x-python",
   "name": "python",
   "nbconvert_exporter": "python",
   "pygments_lexer": "ipython3",
   "version": "3.12.7"
  }
 },
 "nbformat": 4,
 "nbformat_minor": 5
}

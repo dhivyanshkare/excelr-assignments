{
 "cells": [
  {
   "cell_type": "markdown",
   "id": "01b0b650",
   "metadata": {},
   "source": [
    "## Chi-Square test"
   ]
  },
  {
   "cell_type": "code",
   "execution_count": 6,
   "id": "f1cd2723",
   "metadata": {},
   "outputs": [],
   "source": [
    "import numpy as np\n",
    "import pandas as pd\n",
    "from scipy.stats import chi2_contingency\n"
   ]
  },
  {
   "cell_type": "markdown",
   "id": "7bdd9b5c",
   "metadata": {},
   "source": [
    "## TASK-1: State the Hypothesis:\n",
    "\n",
    "\n",
    "H0:There is no significant association between the type of smart home device purchased(smart thermostats vs. smart light) and the customer satisfaction level \n",
    "\n",
    "H1:There is significant association between the type of smart home device purchased(smart thermostats vs. smart light) and the customer satisfaction level.\n"
   ]
  },
  {
   "cell_type": "markdown",
   "id": "51f54877",
   "metadata": {},
   "source": [
    "## TASK-2: Compute the Chi-Square Statistic"
   ]
  },
  {
   "cell_type": "code",
   "execution_count": 9,
   "id": "7a89ed5c",
   "metadata": {},
   "outputs": [
    {
     "data": {
      "text/html": [
       "<div>\n",
       "<style scoped>\n",
       "    .dataframe tbody tr th:only-of-type {\n",
       "        vertical-align: middle;\n",
       "    }\n",
       "\n",
       "    .dataframe tbody tr th {\n",
       "        vertical-align: top;\n",
       "    }\n",
       "\n",
       "    .dataframe thead th {\n",
       "        text-align: right;\n",
       "    }\n",
       "</style>\n",
       "<table border=\"1\" class=\"dataframe\">\n",
       "  <thead>\n",
       "    <tr style=\"text-align: right;\">\n",
       "      <th></th>\n",
       "      <th>Smart Thermostat</th>\n",
       "      <th>Smart Light</th>\n",
       "    </tr>\n",
       "  </thead>\n",
       "  <tbody>\n",
       "    <tr>\n",
       "      <th>Very Satisfied</th>\n",
       "      <td>50</td>\n",
       "      <td>70</td>\n",
       "    </tr>\n",
       "    <tr>\n",
       "      <th>Satisfied</th>\n",
       "      <td>80</td>\n",
       "      <td>100</td>\n",
       "    </tr>\n",
       "    <tr>\n",
       "      <th>Neutral</th>\n",
       "      <td>60</td>\n",
       "      <td>90</td>\n",
       "    </tr>\n",
       "    <tr>\n",
       "      <th>Unsatisfied</th>\n",
       "      <td>30</td>\n",
       "      <td>50</td>\n",
       "    </tr>\n",
       "    <tr>\n",
       "      <th>Very Unsatisfied</th>\n",
       "      <td>20</td>\n",
       "      <td>50</td>\n",
       "    </tr>\n",
       "  </tbody>\n",
       "</table>\n",
       "</div>"
      ],
      "text/plain": [
       "                  Smart Thermostat  Smart Light\n",
       "Very Satisfied                  50           70\n",
       "Satisfied                       80          100\n",
       "Neutral                         60           90\n",
       "Unsatisfied                     30           50\n",
       "Very Unsatisfied                20           50"
      ]
     },
     "execution_count": 9,
     "metadata": {},
     "output_type": "execute_result"
    }
   ],
   "source": [
    "data=np.array([[50,70],\n",
    "[80,100],\n",
    "[60,90],\n",
    "[30,50],\n",
    "[20,50]])\n",
    "df=pd.DataFrame(data,columns=[\"Smart Thermostat\",\"Smart Light\"],\n",
    "                index=[\"Very Satisfied\",\"Satisfied\",\"Neutral\",\"Unsatisfied\",\"Very Unsatisfied\"])\n",
    "df"
   ]
  },
  {
   "cell_type": "code",
   "execution_count": 10,
   "id": "5bd192f2",
   "metadata": {},
   "outputs": [],
   "source": [
    "chi2_stats, p_val, dof, ex = chi2_contingency(df)"
   ]
  },
  {
   "cell_type": "code",
   "execution_count": 11,
   "id": "a6ec1f10",
   "metadata": {},
   "outputs": [
    {
     "name": "stdout",
     "output_type": "stream",
     "text": [
      "Chi-squared Statistics: 5.638227513227513\n",
      "P-value: 0.22784371130697179\n",
      "Degrees of Freedom: 4\n",
      "Expected Frequencies:\n",
      " [[ 48.  72.]\n",
      " [ 72. 108.]\n",
      " [ 60.  90.]\n",
      " [ 32.  48.]\n",
      " [ 28.  42.]]\n"
     ]
    }
   ],
   "source": [
    "print(\"Chi-squared Statistics:\", chi2_stats)\n",
    "print(\"P-value:\", p_val)\n",
    "print(\"Degrees of Freedom:\", dof)\n",
    "print(\"Expected Frequencies:\\n\", ex)"
   ]
  },
  {
   "cell_type": "markdown",
   "id": "65c917f4",
   "metadata": {},
   "source": [
    "## Task-3: Determine the Critical Value"
   ]
  },
  {
   "cell_type": "code",
   "execution_count": 12,
   "id": "1e66a747",
   "metadata": {},
   "outputs": [
    {
     "name": "stdout",
     "output_type": "stream",
     "text": [
      "Critical Value: 9.487729036781154\n"
     ]
    }
   ],
   "source": [
    "from scipy.stats import chi2\n",
    "alpha=0.05\n",
    "critical_value = chi2.ppf(1 - alpha, dof)\n",
    "print(\"Critical Value:\", critical_value)"
   ]
  },
  {
   "cell_type": "markdown",
   "id": "d16ae7f6",
   "metadata": {},
   "source": [
    "## Task-4: Make a Decision"
   ]
  },
  {
   "cell_type": "code",
   "execution_count": 13,
   "id": "3e76414c",
   "metadata": {},
   "outputs": [
    {
     "name": "stdout",
     "output_type": "stream",
     "text": [
      "Accept H0\n",
      "There is no significant association between the type of smart home device purchased(smart thermostats vs. smart light) and the customer satisfaction level \n"
     ]
    }
   ],
   "source": [
    "if chi2_stats < critical_value:\n",
    "    print(\"Accept H0\")\n",
    "    print(\"There is no significant association between the type of smart home device purchased(smart thermostats vs. smart light) and the customer satisfaction level \")\n",
    "else:\n",
    "    print(\"Reject H0\")\n",
    "    print(\"There is a significant association between the type of smart home device purchased(smart thermostats vs. smart light) and the customer satisfaction level \")"
   ]
  },
  {
   "cell_type": "code",
   "execution_count": null,
   "id": "eba37e10",
   "metadata": {},
   "outputs": [],
   "source": []
  }
 ],
 "metadata": {
  "kernelspec": {
   "display_name": "base",
   "language": "python",
   "name": "python3"
  },
  "language_info": {
   "codemirror_mode": {
    "name": "ipython",
    "version": 3
   },
   "file_extension": ".py",
   "mimetype": "text/x-python",
   "name": "python",
   "nbconvert_exporter": "python",
   "pygments_lexer": "ipython3",
   "version": "3.12.7"
  }
 },
 "nbformat": 4,
 "nbformat_minor": 5
}

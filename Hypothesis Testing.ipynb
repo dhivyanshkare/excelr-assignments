{
 "cells": [
  {
   "cell_type": "markdown",
   "id": "f6d68514",
   "metadata": {},
   "source": [
    "## Hypothesis Testing"
   ]
  },
  {
   "cell_type": "code",
   "execution_count": 1,
   "id": "0e303482",
   "metadata": {},
   "outputs": [],
   "source": [
    "import numpy as np\n",
    "from scipy.stats import t\n"
   ]
  },
  {
   "cell_type": "code",
   "execution_count": 2,
   "id": "ea9d1c84",
   "metadata": {},
   "outputs": [],
   "source": [
    "#given data\n",
    "sample_mean = 3050\n",
    "theoretical_mean = 1000+5*600\n",
    "sample_size=25\n",
    "standard_deviation=5*25\n",
    "alpha=0.05"
   ]
  },
  {
   "cell_type": "markdown",
   "id": "371b5197",
   "metadata": {},
   "source": [
    "\n",
    "### TASK-1 State the Hypotheses statement:\n",
    "\n",
    "##### Null Hypothesis (H₀): The weekly operating cost is consistent with the theoretical model (W =5X).\n",
    "##### Alternative Hypothesis (H₁): The weekly operating cost is higher than the theoretical model"
   ]
  },
  {
   "cell_type": "markdown",
   "id": "660c32c2",
   "metadata": {},
   "source": [
    "## TASK-2 Calculate the Test Statistic:"
   ]
  },
  {
   "cell_type": "code",
   "execution_count": 3,
   "id": "f72e0d28",
   "metadata": {},
   "outputs": [],
   "source": [
    "#calculating t_statistic\n",
    "standard_error = standard_deviation / np.sqrt(sample_size)\n",
    "t_statistic = (sample_mean - theoretical_mean) / standard_error\n"
   ]
  },
  {
   "cell_type": "code",
   "execution_count": 4,
   "id": "b0e66fbd",
   "metadata": {},
   "outputs": [
    {
     "name": "stdout",
     "output_type": "stream",
     "text": [
      "Standard Error: 25.0\n",
      "T-Statistic: -38.0\n"
     ]
    }
   ],
   "source": [
    "print(\"Standard Error:\", standard_error)\n",
    "print(\"T-Statistic:\", t_statistic)\n"
   ]
  },
  {
   "cell_type": "markdown",
   "id": "0c4644a1",
   "metadata": {},
   "source": [
    "## TASK-3 Determine The Critical Value"
   ]
  },
  {
   "cell_type": "code",
   "execution_count": 5,
   "id": "ff83581a",
   "metadata": {},
   "outputs": [
    {
     "name": "stdout",
     "output_type": "stream",
     "text": [
      "Critical Value: 1.7108820799094275\n"
     ]
    }
   ],
   "source": [
    "#calculating critical value\n",
    "dof=sample_size - 1\n",
    "critical_value = t.ppf(1 - alpha, dof)\n",
    "print(\"Critical Value:\", critical_value)"
   ]
  },
  {
   "cell_type": "markdown",
   "id": "672e4531",
   "metadata": {},
   "source": [
    "## TASK-4: Make a Decision"
   ]
  },
  {
   "cell_type": "code",
   "execution_count": null,
   "id": "566e0b8f",
   "metadata": {},
   "outputs": [
    {
     "name": "stdout",
     "output_type": "stream",
     "text": [
      "Accept H0: The operating cost for a franchise in a week is not greater than $1,000 + $5X for X = 600\n"
     ]
    },
    {
     "ename": "",
     "evalue": "",
     "output_type": "error",
     "traceback": [
      "\u001b[1;31mThe Kernel crashed while executing code in the current cell or a previous cell. \n",
      "\u001b[1;31mPlease review the code in the cell(s) to identify a possible cause of the failure. \n",
      "\u001b[1;31mClick <a href='https://aka.ms/vscodeJupyterKernelCrash'>here</a> for more info. \n",
      "\u001b[1;31mView Jupyter <a href='command:jupyter.viewOutput'>log</a> for further details."
     ]
    }
   ],
   "source": [
    "if t_statistic > critical_value:\n",
    "    print(\"Reject H0: The operating cost for a franchise ina a week is greater than $1,000 + $5X for X = 600 \")\n",
    "else:\n",
    "    print(\"Accept H0: The operating cost for a franchise in a week is not greater than $1,000 + $5X for X = 600\")"
   ]
  },
  {
   "cell_type": "markdown",
   "id": "8271a64a",
   "metadata": {},
   "source": [
    "## TASK-5: Conclusion\n",
    "From the above task we can clearly see that there is a strong evidence to support that restaurant owner's claim that the weekly \n",
    "operating cost are higher than the model suggests is false\n",
    "\n",
    "Hence,There is no strong evidence to support the restaurant owner"
   ]
  }
 ],
 "metadata": {
  "kernelspec": {
   "display_name": "base",
   "language": "python",
   "name": "python3"
  },
  "language_info": {
   "codemirror_mode": {
    "name": "ipython",
    "version": 3
   },
   "file_extension": ".py",
   "mimetype": "text/x-python",
   "name": "python",
   "nbconvert_exporter": "python",
   "pygments_lexer": "ipython3",
   "version": "3.12.7"
  }
 },
 "nbformat": 4,
 "nbformat_minor": 5
}
